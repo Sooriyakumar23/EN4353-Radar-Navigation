{
  "nbformat": 4,
  "nbformat_minor": 0,
  "metadata": {
    "colab": {
      "name": "170599G-Assignment-03.ipynb",
      "provenance": [],
      "collapsed_sections": []
    },
    "kernelspec": {
      "name": "python3",
      "display_name": "Python 3"
    },
    "language_info": {
      "name": "python"
    }
  },
  "cells": [
    {
      "cell_type": "markdown",
      "source": [
        "# EN4353 - Radar & Navigation\n",
        "\n",
        "## Assignment 03\n",
        "\n",
        "\n",
        "* Name: S.Sooriyakumar\n",
        "\n",
        "* Index No: 170599G\n",
        "\n",
        "* Department : E.N.T.C\n",
        "\n",
        "* Batch : 17th"
      ],
      "metadata": {
        "id": "y3Bacm_Dq_l5"
      }
    },
    {
      "cell_type": "markdown",
      "source": [
        "Step1: Download and unzip this github repo: https://github.com/Sooriyakumar23/EN4353-Radar-Navigation/tree/main/Assignment-03\n",
        "\n",
        "Step2: Open 'Assignment-03' folder\n",
        "\n",
        "Step3: Run '170599G-Assignment-03.ipynb' using jupyter notebook of anaconda"
      ],
      "metadata": {
        "id": "3_4ZSaMhq_9H"
      }
    },
    {
      "cell_type": "code",
      "source": [
        "# Importing necessary libraries\n",
        "\n",
        "import pandas as pd # To read csv files from local folder to ipynb code file\n",
        "import numpy as np # To handle arrays and matrices\n",
        "import matplotlib.pyplot as plt # To plot variety of figures\n",
        "import seaborn as sns # To plot variety of figures\n",
        "from google.colab import drive # To access drive to get files"
      ],
      "metadata": {
        "id": "Y6blMr9mq78i"
      },
      "execution_count": 8,
      "outputs": []
    },
    {
      "cell_type": "code",
      "source": [
        "# Load dataset\n",
        "\n",
        "drive.mount('/content/gdrive')\n",
        "\n",
        "df = pd.read_csv('/content/dataset.csv')"
      ],
      "metadata": {
        "colab": {
          "base_uri": "https://localhost:8080/"
        },
        "id": "mb8NjqnhrpZt",
        "outputId": "2692efed-7b50-4da9-a21c-1f417282c151"
      },
      "execution_count": 9,
      "outputs": [
        {
          "output_type": "stream",
          "name": "stdout",
          "text": [
            "Drive already mounted at /content/gdrive; to attempt to forcibly remount, call drive.mount(\"/content/gdrive\", force_remount=True).\n"
          ]
        }
      ]
    },
    {
      "cell_type": "code",
      "source": [
        "df.head(15)"
      ],
      "metadata": {
        "colab": {
          "base_uri": "https://localhost:8080/",
          "height": 520
        },
        "id": "gHI9iEb0sAcJ",
        "outputId": "a1930532-4fc8-4e9d-c24c-a0e348fc5000"
      },
      "execution_count": 18,
      "outputs": [
        {
          "output_type": "execute_result",
          "data": {
            "text/plain": [
              "    Sample Number  I-CH           Time  Q CH  ACP\n",
              "0         -524288  7F7B  -26.214308 ms  FF76    0\n",
              "1         -524287  7F7B  -26.214258 ms  FF76    0\n",
              "2         -524286  7F7B  -26.214208 ms  FF76    0\n",
              "3         -524285  7F7B  -26.214158 ms  FF76    0\n",
              "4         -524284  7F7B  -26.214108 ms  FF76    0\n",
              "5         -524283  7F6A  -26.214058 ms  FF77    0\n",
              "6         -524282  7F6A  -26.214008 ms  FF77    0\n",
              "7         -524281  7F6A  -26.213958 ms  FF77    0\n",
              "8         -524280  7F6A  -26.213908 ms  FF77    0\n",
              "9         -524279  7F6A  -26.213858 ms  FF77    0\n",
              "10        -524278  7FA7  -26.213808 ms  FF59    0\n",
              "11        -524277  7FA7  -26.213758 ms  FF59    0\n",
              "12        -524276  7FA7  -26.213708 ms  FF59    0\n",
              "13        -524275  7FA7  -26.213658 ms  FF59    0\n",
              "14        -524274  7FA7  -26.213608 ms  FF59    0"
            ],
            "text/html": [
              "\n",
              "  <div id=\"df-18ef099b-e18f-4f6b-9768-eecfc4329f5a\">\n",
              "    <div class=\"colab-df-container\">\n",
              "      <div>\n",
              "<style scoped>\n",
              "    .dataframe tbody tr th:only-of-type {\n",
              "        vertical-align: middle;\n",
              "    }\n",
              "\n",
              "    .dataframe tbody tr th {\n",
              "        vertical-align: top;\n",
              "    }\n",
              "\n",
              "    .dataframe thead th {\n",
              "        text-align: right;\n",
              "    }\n",
              "</style>\n",
              "<table border=\"1\" class=\"dataframe\">\n",
              "  <thead>\n",
              "    <tr style=\"text-align: right;\">\n",
              "      <th></th>\n",
              "      <th>Sample Number</th>\n",
              "      <th>I-CH</th>\n",
              "      <th>Time</th>\n",
              "      <th>Q CH</th>\n",
              "      <th>ACP</th>\n",
              "    </tr>\n",
              "  </thead>\n",
              "  <tbody>\n",
              "    <tr>\n",
              "      <th>0</th>\n",
              "      <td>-524288</td>\n",
              "      <td>7F7B</td>\n",
              "      <td>-26.214308 ms</td>\n",
              "      <td>FF76</td>\n",
              "      <td>0</td>\n",
              "    </tr>\n",
              "    <tr>\n",
              "      <th>1</th>\n",
              "      <td>-524287</td>\n",
              "      <td>7F7B</td>\n",
              "      <td>-26.214258 ms</td>\n",
              "      <td>FF76</td>\n",
              "      <td>0</td>\n",
              "    </tr>\n",
              "    <tr>\n",
              "      <th>2</th>\n",
              "      <td>-524286</td>\n",
              "      <td>7F7B</td>\n",
              "      <td>-26.214208 ms</td>\n",
              "      <td>FF76</td>\n",
              "      <td>0</td>\n",
              "    </tr>\n",
              "    <tr>\n",
              "      <th>3</th>\n",
              "      <td>-524285</td>\n",
              "      <td>7F7B</td>\n",
              "      <td>-26.214158 ms</td>\n",
              "      <td>FF76</td>\n",
              "      <td>0</td>\n",
              "    </tr>\n",
              "    <tr>\n",
              "      <th>4</th>\n",
              "      <td>-524284</td>\n",
              "      <td>7F7B</td>\n",
              "      <td>-26.214108 ms</td>\n",
              "      <td>FF76</td>\n",
              "      <td>0</td>\n",
              "    </tr>\n",
              "    <tr>\n",
              "      <th>5</th>\n",
              "      <td>-524283</td>\n",
              "      <td>7F6A</td>\n",
              "      <td>-26.214058 ms</td>\n",
              "      <td>FF77</td>\n",
              "      <td>0</td>\n",
              "    </tr>\n",
              "    <tr>\n",
              "      <th>6</th>\n",
              "      <td>-524282</td>\n",
              "      <td>7F6A</td>\n",
              "      <td>-26.214008 ms</td>\n",
              "      <td>FF77</td>\n",
              "      <td>0</td>\n",
              "    </tr>\n",
              "    <tr>\n",
              "      <th>7</th>\n",
              "      <td>-524281</td>\n",
              "      <td>7F6A</td>\n",
              "      <td>-26.213958 ms</td>\n",
              "      <td>FF77</td>\n",
              "      <td>0</td>\n",
              "    </tr>\n",
              "    <tr>\n",
              "      <th>8</th>\n",
              "      <td>-524280</td>\n",
              "      <td>7F6A</td>\n",
              "      <td>-26.213908 ms</td>\n",
              "      <td>FF77</td>\n",
              "      <td>0</td>\n",
              "    </tr>\n",
              "    <tr>\n",
              "      <th>9</th>\n",
              "      <td>-524279</td>\n",
              "      <td>7F6A</td>\n",
              "      <td>-26.213858 ms</td>\n",
              "      <td>FF77</td>\n",
              "      <td>0</td>\n",
              "    </tr>\n",
              "    <tr>\n",
              "      <th>10</th>\n",
              "      <td>-524278</td>\n",
              "      <td>7FA7</td>\n",
              "      <td>-26.213808 ms</td>\n",
              "      <td>FF59</td>\n",
              "      <td>0</td>\n",
              "    </tr>\n",
              "    <tr>\n",
              "      <th>11</th>\n",
              "      <td>-524277</td>\n",
              "      <td>7FA7</td>\n",
              "      <td>-26.213758 ms</td>\n",
              "      <td>FF59</td>\n",
              "      <td>0</td>\n",
              "    </tr>\n",
              "    <tr>\n",
              "      <th>12</th>\n",
              "      <td>-524276</td>\n",
              "      <td>7FA7</td>\n",
              "      <td>-26.213708 ms</td>\n",
              "      <td>FF59</td>\n",
              "      <td>0</td>\n",
              "    </tr>\n",
              "    <tr>\n",
              "      <th>13</th>\n",
              "      <td>-524275</td>\n",
              "      <td>7FA7</td>\n",
              "      <td>-26.213658 ms</td>\n",
              "      <td>FF59</td>\n",
              "      <td>0</td>\n",
              "    </tr>\n",
              "    <tr>\n",
              "      <th>14</th>\n",
              "      <td>-524274</td>\n",
              "      <td>7FA7</td>\n",
              "      <td>-26.213608 ms</td>\n",
              "      <td>FF59</td>\n",
              "      <td>0</td>\n",
              "    </tr>\n",
              "  </tbody>\n",
              "</table>\n",
              "</div>\n",
              "      <button class=\"colab-df-convert\" onclick=\"convertToInteractive('df-18ef099b-e18f-4f6b-9768-eecfc4329f5a')\"\n",
              "              title=\"Convert this dataframe to an interactive table.\"\n",
              "              style=\"display:none;\">\n",
              "        \n",
              "  <svg xmlns=\"http://www.w3.org/2000/svg\" height=\"24px\"viewBox=\"0 0 24 24\"\n",
              "       width=\"24px\">\n",
              "    <path d=\"M0 0h24v24H0V0z\" fill=\"none\"/>\n",
              "    <path d=\"M18.56 5.44l.94 2.06.94-2.06 2.06-.94-2.06-.94-.94-2.06-.94 2.06-2.06.94zm-11 1L8.5 8.5l.94-2.06 2.06-.94-2.06-.94L8.5 2.5l-.94 2.06-2.06.94zm10 10l.94 2.06.94-2.06 2.06-.94-2.06-.94-.94-2.06-.94 2.06-2.06.94z\"/><path d=\"M17.41 7.96l-1.37-1.37c-.4-.4-.92-.59-1.43-.59-.52 0-1.04.2-1.43.59L10.3 9.45l-7.72 7.72c-.78.78-.78 2.05 0 2.83L4 21.41c.39.39.9.59 1.41.59.51 0 1.02-.2 1.41-.59l7.78-7.78 2.81-2.81c.8-.78.8-2.07 0-2.86zM5.41 20L4 18.59l7.72-7.72 1.47 1.35L5.41 20z\"/>\n",
              "  </svg>\n",
              "      </button>\n",
              "      \n",
              "  <style>\n",
              "    .colab-df-container {\n",
              "      display:flex;\n",
              "      flex-wrap:wrap;\n",
              "      gap: 12px;\n",
              "    }\n",
              "\n",
              "    .colab-df-convert {\n",
              "      background-color: #E8F0FE;\n",
              "      border: none;\n",
              "      border-radius: 50%;\n",
              "      cursor: pointer;\n",
              "      display: none;\n",
              "      fill: #1967D2;\n",
              "      height: 32px;\n",
              "      padding: 0 0 0 0;\n",
              "      width: 32px;\n",
              "    }\n",
              "\n",
              "    .colab-df-convert:hover {\n",
              "      background-color: #E2EBFA;\n",
              "      box-shadow: 0px 1px 2px rgba(60, 64, 67, 0.3), 0px 1px 3px 1px rgba(60, 64, 67, 0.15);\n",
              "      fill: #174EA6;\n",
              "    }\n",
              "\n",
              "    [theme=dark] .colab-df-convert {\n",
              "      background-color: #3B4455;\n",
              "      fill: #D2E3FC;\n",
              "    }\n",
              "\n",
              "    [theme=dark] .colab-df-convert:hover {\n",
              "      background-color: #434B5C;\n",
              "      box-shadow: 0px 1px 3px 1px rgba(0, 0, 0, 0.15);\n",
              "      filter: drop-shadow(0px 1px 2px rgba(0, 0, 0, 0.3));\n",
              "      fill: #FFFFFF;\n",
              "    }\n",
              "  </style>\n",
              "\n",
              "      <script>\n",
              "        const buttonEl =\n",
              "          document.querySelector('#df-18ef099b-e18f-4f6b-9768-eecfc4329f5a button.colab-df-convert');\n",
              "        buttonEl.style.display =\n",
              "          google.colab.kernel.accessAllowed ? 'block' : 'none';\n",
              "\n",
              "        async function convertToInteractive(key) {\n",
              "          const element = document.querySelector('#df-18ef099b-e18f-4f6b-9768-eecfc4329f5a');\n",
              "          const dataTable =\n",
              "            await google.colab.kernel.invokeFunction('convertToInteractive',\n",
              "                                                     [key], {});\n",
              "          if (!dataTable) return;\n",
              "\n",
              "          const docLinkHtml = 'Like what you see? Visit the ' +\n",
              "            '<a target=\"_blank\" href=https://colab.research.google.com/notebooks/data_table.ipynb>data table notebook</a>'\n",
              "            + ' to learn more about interactive tables.';\n",
              "          element.innerHTML = '';\n",
              "          dataTable['output_type'] = 'display_data';\n",
              "          await google.colab.output.renderOutput(dataTable, element);\n",
              "          const docLink = document.createElement('div');\n",
              "          docLink.innerHTML = docLinkHtml;\n",
              "          element.appendChild(docLink);\n",
              "        }\n",
              "      </script>\n",
              "    </div>\n",
              "  </div>\n",
              "  "
            ]
          },
          "metadata": {},
          "execution_count": 18
        }
      ]
    },
    {
      "cell_type": "markdown",
      "source": [
        "# Q1"
      ],
      "metadata": {
        "id": "5Ysc_fR82vNu"
      }
    },
    {
      "cell_type": "markdown",
      "source": [
        "Preprocessing\n",
        "\n",
        "* Step1 :- Every consecutive 5 samples are same due to oversampling - Mitigate oversampling\n",
        "\n",
        "* Step2 :- First 10,650 samples in original signal are errorneous - Needs to be dropped\n",
        "\n",
        "* Step3 :- I channel has not been biased properly - 4 MSBs '7' have to be converted to 'F'\n",
        "\n",
        "* Step4 :- Stored in 16-bit 2's complement format hex numbers - Have to change back to signed integers"
      ],
      "metadata": {
        "id": "C8cz6Jjr21_u"
      }
    },
    {
      "cell_type": "markdown",
      "source": [
        "**Step1 & Step2**"
      ],
      "metadata": {
        "id": "OUqHofNv-56x"
      }
    },
    {
      "cell_type": "markdown",
      "source": [
        "I - component"
      ],
      "metadata": {
        "id": "MzStoBpaCChm"
      }
    },
    {
      "cell_type": "code",
      "source": [
        "I_CH_ds = df['I-CH'].to_numpy()[0::5] # Step1"
      ],
      "metadata": {
        "id": "52gHfkEb3i2j"
      },
      "execution_count": 99,
      "outputs": []
    },
    {
      "cell_type": "code",
      "source": [
        "I_CH = I_CH_ds[10650:] # Step2"
      ],
      "metadata": {
        "id": "MkKhRAviBfbv"
      },
      "execution_count": 100,
      "outputs": []
    },
    {
      "cell_type": "markdown",
      "source": [
        "Q - component"
      ],
      "metadata": {
        "id": "PlIO9bG0CE0n"
      }
    },
    {
      "cell_type": "code",
      "source": [
        "Q_CH_ds = df['Q CH'].to_numpy()[0::5] # Step1"
      ],
      "metadata": {
        "id": "DnDgD8DqAeyE"
      },
      "execution_count": 101,
      "outputs": []
    },
    {
      "cell_type": "code",
      "source": [
        "Q_CH = Q_CH_ds[10650:] # Step2"
      ],
      "metadata": {
        "id": "SkbfiFPVBuhX"
      },
      "execution_count": 102,
      "outputs": []
    },
    {
      "cell_type": "markdown",
      "source": [
        "ACP"
      ],
      "metadata": {
        "id": "cSvkAH7Gy5Be"
      }
    },
    {
      "cell_type": "code",
      "source": [
        "ACP = df['ACP'].to_numpy()[0::5][10650:]"
      ],
      "metadata": {
        "id": "XOtQEsVty5cK"
      },
      "execution_count": 185,
      "outputs": []
    },
    {
      "cell_type": "markdown",
      "source": [
        "**Step3**"
      ],
      "metadata": {
        "id": "0SzwmKmOA8UY"
      }
    },
    {
      "cell_type": "code",
      "source": [
        "I_CH_corrected = []\n",
        "\n",
        "for i in I_CH:\n",
        "  if str(i)[0] == '7':\n",
        "    I_CH_corrected.append('F'+str(i)[1:])\n",
        "  else:\n",
        "    I_CH_corrected.append(str(i))"
      ],
      "metadata": {
        "id": "n0LtW1WPA7Sd"
      },
      "execution_count": 108,
      "outputs": []
    },
    {
      "cell_type": "markdown",
      "source": [
        "**Step4**"
      ],
      "metadata": {
        "id": "eYwtpByAWixc"
      }
    },
    {
      "cell_type": "code",
      "source": [
        "##### Hex -> Decimal calculation ; Example :->\n",
        "\n",
        "# FDFE -> \n",
        "# 1111 1101 1111 1110 -> \n",
        "# 2 + 4 + 8 + 16 + 32 + 64 + 128 + 256 + 1024 + 2048 + 4096*(1+2+4) - 4096*8 ->\n",
        "# -514"
      ],
      "metadata": {
        "id": "J3XRpyuEWrrM"
      },
      "execution_count": 145,
      "outputs": []
    },
    {
      "cell_type": "code",
      "source": [
        "I_final = []\n",
        "\n",
        "for j in I_CH_corrected:\n",
        "  val = int(j, 16)\n",
        "  if (val & (1 << (16 - 1))) != 0: val = val - (1 << 16)\n",
        "  I_final.append(val) "
      ],
      "metadata": {
        "id": "IoImza75aeOl"
      },
      "execution_count": 146,
      "outputs": []
    },
    {
      "cell_type": "code",
      "source": [
        "Q_final = []\n",
        "\n",
        "for k in Q_CH:\n",
        "  val = int(k, 16)\n",
        "  if (val & (1 << (16 - 1))) != 0: val = val - (1 << 16)\n",
        "  Q_final.append(val) "
      ],
      "metadata": {
        "id": "6Df8LNAHaeRR"
      },
      "execution_count": 147,
      "outputs": []
    },
    {
      "cell_type": "markdown",
      "source": [
        "# Q2"
      ],
      "metadata": {
        "id": "3d4xq8c75Ir5"
      }
    },
    {
      "cell_type": "code",
      "source": [
        "S = np.array(I_final) + 1j*np.array(Q_final)"
      ],
      "metadata": {
        "id": "oUOii3sc5L96"
      },
      "execution_count": 166,
      "outputs": []
    },
    {
      "cell_type": "code",
      "source": [
        "length = 900*4\n",
        "data_set = S[:int(len(S)/length)*length].reshape(int(len(S)/length),length)"
      ],
      "metadata": {
        "id": "93F7jlXbcY6k"
      },
      "execution_count": 167,
      "outputs": []
    },
    {
      "cell_type": "code",
      "source": [
        "data_set"
      ],
      "metadata": {
        "colab": {
          "base_uri": "https://localhost:8080/"
        },
        "id": "kAGNcericY9E",
        "outputId": "f0ee7aac-634a-46bd-a5dd-7f5079cd01d7"
      },
      "execution_count": 168,
      "outputs": [
        {
          "output_type": "execute_result",
          "data": {
            "text/plain": [
              "array([[ -514.+157.j,  -872.+278.j,  -441. +88.j, ...,  -267. -40.j,\n",
              "         -180.-220.j, -1026.+417.j],\n",
              "       [ -528.+186.j,  -952.+346.j,  -462.+110.j, ...,  -187. -70.j,\n",
              "         -138.-246.j, -1191.+517.j],\n",
              "       [ -876.+411.j, -1334.+596.j,  -752.+324.j, ...,  -179. -73.j,\n",
              "          -87.-262.j, -1219.+515.j],\n",
              "       ...,\n",
              "       [ -128.-100.j,  -177. -86.j,  -106.-109.j, ...,  -118.-118.j,\n",
              "         -150. -97.j,  -177. -94.j],\n",
              "       [  -65.-142.j,   -94.-131.j,  -113.-115.j, ...,  -160.-103.j,\n",
              "         -104.-114.j,   -72.-153.j],\n",
              "       [ -121.-113.j,   -75.-136.j,   -74.-131.j, ...,    -6. -73.j,\n",
              "           -5. -71.j,     3. -88.j]])"
            ]
          },
          "metadata": {},
          "execution_count": 168
        }
      ]
    },
    {
      "cell_type": "markdown",
      "source": [
        "1st Pulse"
      ],
      "metadata": {
        "id": "OaFSoK5zdiNP"
      }
    },
    {
      "cell_type": "code",
      "source": [
        "plt.plot(np.abs(data_set[0]))\n",
        "plt.title('$1st pulse - |I_{CH}[n]+jQ_{CH}[n]|$')\n",
        "plt.xlabel('n')\n",
        "plt.ylabel('Magnitude')\n",
        "\n",
        "plt.show()"
      ],
      "metadata": {
        "colab": {
          "base_uri": "https://localhost:8080/",
          "height": 297
        },
        "id": "T17nadeRdWfW",
        "outputId": "ae1d23e6-a03b-4ff6-bd8c-0220e1473252"
      },
      "execution_count": 169,
      "outputs": [
        {
          "output_type": "display_data",
          "data": {
            "text/plain": [
              "<Figure size 432x288 with 1 Axes>"
            ],
            "image/png": "[encoded data removed]"
          },
          "metadata": {
            "needs_background": "light"
          }
        }
      ]
    },
    {
      "cell_type": "markdown",
      "source": [
        "20th Pulse"
      ],
      "metadata": {
        "id": "Yq77HJLAdjEp"
      }
    },
    {
      "cell_type": "code",
      "source": [
        "plt.plot(np.abs(data_set[19]))\n",
        "plt.title('$20th pulse - |I_{CH}[n]+jQ_{CH}[n]|$')\n",
        "plt.xlabel('n')\n",
        "plt.ylabel('Magnitude')\n",
        "\n",
        "plt.show()"
      ],
      "metadata": {
        "colab": {
          "base_uri": "https://localhost:8080/",
          "height": 297
        },
        "id": "rGgr06oqdjb1",
        "outputId": "8983723f-d4c8-4f91-eecb-b60611857a52"
      },
      "execution_count": 171,
      "outputs": [
        {
          "output_type": "display_data",
          "data": {
            "text/plain": [
              "<Figure size 432x288 with 1 Axes>"
            ],
            "image/png": "[encoded data removed]"
          },
          "metadata": {
            "needs_background": "light"
          }
        }
      ]
    },
    {
      "cell_type": "markdown",
      "source": [
        "# Q3"
      ],
      "metadata": {
        "id": "uAI5TMcy5MqZ"
      }
    },
    {
      "cell_type": "markdown",
      "source": [
        "By, observing the magnitude of the signal **S**, we can say that threshold = 300."
      ],
      "metadata": {
        "id": "1dtUYUH8btaL"
      }
    },
    {
      "cell_type": "markdown",
      "source": [
        "# Q4"
      ],
      "metadata": {
        "id": "AHKWPzIu5Ok3"
      }
    },
    {
      "cell_type": "code",
      "source": [
        "# Obtaining clutter map using the decided threshold (300) on the data_set."
      ],
      "metadata": {
        "id": "Sxs-qo8V5PS9"
      },
      "execution_count": 172,
      "outputs": []
    },
    {
      "cell_type": "code",
      "source": [
        "threshold = 300"
      ],
      "metadata": {
        "id": "vjmFjFdRnYDM"
      },
      "execution_count": 173,
      "outputs": []
    },
    {
      "cell_type": "code",
      "source": [
        "plt.figure(figsize=(16,5))\n",
        "sns.heatmap(np.abs(data_set[:,56:2400])>threshold)\n",
        "plt.title('Clutter Map - MTD')"
      ],
      "metadata": {
        "colab": {
          "base_uri": "https://localhost:8080/",
          "height": 368
        },
        "id": "hgLKeftNnaCa",
        "outputId": "5b0ff72f-c805-4ba8-af91-1f20b3d59b04"
      },
      "execution_count": 183,
      "outputs": [
        {
          "output_type": "execute_result",
          "data": {
            "text/plain": [
              "Text(0.5, 1.0, 'Clutter Map - MTD')"
            ]
          },
          "metadata": {},
          "execution_count": 183
        },
        {
          "output_type": "display_data",
          "data": {
            "text/plain": [
              "<Figure size 1152x360 with 2 Axes>"
            ],
            "image/png": "[encoded data removed]"
          },
          "metadata": {
            "needs_background": "light"
          }
        }
      ]
    },
    {
      "cell_type": "markdown",
      "source": [
        "# Q5"
      ],
      "metadata": {
        "id": "bhm9W6TG5P14"
      }
    },
    {
      "cell_type": "markdown",
      "source": [
        "**i. RPM of the radar**"
      ],
      "metadata": {
        "id": "jUH_bPympFlM"
      }
    },
    {
      "cell_type": "markdown",
      "source": [
        "RPM = $\\frac{60}{Time-taken-for-one-revolution}$\n",
        "  = $\\frac{60}{ACPs-for-one-revolution  \\times{}  time-for-one-ACP}$\n",
        "= $\\frac{60}{ACPs-for-one-revolution \\times{} samples-per-ACP \\times{} sampling-period}$ \n",
        "= $\\frac{60 \\times{} 20 \\times{} 10^6}{4096 \\times{}22500}$\n",
        "= 13.02rpm"
      ],
      "metadata": {
        "id": "rV8I8p2upFr3"
      }
    },
    {
      "cell_type": "markdown",
      "source": [
        "**ii. Number of echoes per CPI interval**"
      ],
      "metadata": {
        "id": "mUTG0_AlpMBl"
      }
    },
    {
      "cell_type": "markdown",
      "source": [
        "No. of Echoes per CPI interval = ACPs for CPI x No. of Echoes CPI\n",
        "= ACPs for CPI x Samples for ACP / samples per Echo\n",
        "= 32 X (22500) / (5 x 900 x 4)\n",
        "= 40  "
      ],
      "metadata": {
        "id": "3NWatX0FpN4s"
      }
    },
    {
      "cell_type": "markdown",
      "source": [
        "**iii. Beam width of RADAR**"
      ],
      "metadata": {
        "id": "SRNbg_bqpN9j"
      }
    },
    {
      "cell_type": "markdown",
      "source": [
        "Beam width = ACPs per azimuth bin x resolution of shaft encoder \n",
        "= $ 32 \\times 360^0 / 4096 $ = $ 2.81^0 $"
      ],
      "metadata": {
        "id": "Tg4n5RVKpFwo"
      }
    },
    {
      "cell_type": "markdown",
      "source": [
        "# Q6"
      ],
      "metadata": {
        "id": "GEpU_HQ75R3p"
      }
    },
    {
      "cell_type": "code",
      "source": [
        "plt.figure(figsize=(16,5))\n",
        "plt.plot(ACP)\n",
        "plt.title('ACP pulse train')\n",
        "plt.ylabel('Magnitude')\n",
        "plt.show()"
      ],
      "metadata": {
        "colab": {
          "base_uri": "https://localhost:8080/",
          "height": 333
        },
        "id": "SBWs9_tQ5Slz",
        "outputId": "ce469c2e-f900-49db-82ef-d1e75bbfbfd1"
      },
      "execution_count": 189,
      "outputs": [
        {
          "output_type": "display_data",
          "data": {
            "text/plain": [
              "<Figure size 1152x360 with 1 Axes>"
            ],
            "image/png": "[encoded data removed]"
          },
          "metadata": {
            "needs_background": "light"
          }
        }
      ]
    },
    {
      "cell_type": "code",
      "source": [
        "plt.figure(figsize=(16,5))\n",
        "plt.plot(ACP[:5625])\n",
        "plt.title('ACP pulse train (first 5625 samples)')\n",
        "plt.ylabel('Magnitude')\n",
        "plt.show()"
      ],
      "metadata": {
        "colab": {
          "base_uri": "https://localhost:8080/",
          "height": 333
        },
        "id": "Oh4iQPqozSAB",
        "outputId": "d0c81f48-d647-4190-a44c-99ca47858ac3"
      },
      "execution_count": 190,
      "outputs": [
        {
          "output_type": "display_data",
          "data": {
            "text/plain": [
              "<Figure size 1152x360 with 1 Axes>"
            ],
            "image/png": "[encoded data removed]"
          },
          "metadata": {
            "needs_background": "light"
          }
        }
      ]
    },
    {
      "cell_type": "code",
      "source": [
        "time = np.vectorize(lambda x: x[:len(x)-3:1], otypes=[float])(df['Time'].to_numpy()[::5][10650:])"
      ],
      "metadata": {
        "id": "N_IUMgEYz9AH"
      },
      "execution_count": 196,
      "outputs": []
    },
    {
      "cell_type": "code",
      "source": [
        "plt.figure(figsize=(16,5))\n",
        "plt.plot(time[90000:100000])\n",
        "plt.plot(np.abs(S)[90000:100000])"
      ],
      "metadata": {
        "colab": {
          "base_uri": "https://localhost:8080/",
          "height": 334
        },
        "id": "B8E_kHNwzSCb",
        "outputId": "65ca04e7-9f4c-4356-fd0f-2b1f1fbd78c1"
      },
      "execution_count": 197,
      "outputs": [
        {
          "output_type": "execute_result",
          "data": {
            "text/plain": [
              "[<matplotlib.lines.Line2D at 0x7f01e8617950>]"
            ]
          },
          "metadata": {},
          "execution_count": 197
        },
        {
          "output_type": "display_data",
          "data": {
            "text/plain": [
              "<Figure size 1152x360 with 1 Axes>"
            ],
            "image/png": "[encoded data removed]"
          },
          "metadata": {
            "needs_background": "light"
          }
        }
      ]
    },
    {
      "cell_type": "markdown",
      "source": [
        "Clutter Map can be divided into mainly 3 sections. Those are, \n",
        "\n",
        "1. **Section 1** = 0-35 in y-axis : This region only contains clutter\n",
        "\n",
        "2. **Section 2** = 36-40 in y-axis : All the received signals are less than noise threshold. reason for that could be the radar vicinity is not illuminated by the transmitter\n",
        "\n",
        "3. **Section 3** = 41 - 55 in y-axis : This region is differing from **Section 1**. So, shaft encoder provides pulses with same frequency we can assume that radar is moving at a constant angular velocity."
      ],
      "metadata": {
        "id": "HzOKwVEK1IdP"
      }
    },
    {
      "cell_type": "code",
      "source": [
        "plt.figure(figsize=(16,9))\n",
        "plt.plot(np.abs(S)[33*3600:45*3600],label='sampled radar data')\n",
        "\n",
        "echo_pulse = np.zeros(len(S))\n",
        "for i in range(len(S)):\n",
        "  if i%3600:echo_pulse[i]=3000\n",
        "\n",
        "plt.plot(echo_pulse[33*3600:45*3600],label='900$\\mu s$ interval')\n",
        "plt.title('RADAR signal')\n",
        "plt.ylabel('Magnitude')\n",
        "plt.legend(loc='upper right')\n",
        "plt.show()"
      ],
      "metadata": {
        "colab": {
          "base_uri": "https://localhost:8080/",
          "height": 544
        },
        "id": "IhyAK7_NzSHg",
        "outputId": "41bad883-26bf-4fbc-cec7-006a41f12a9c"
      },
      "execution_count": 200,
      "outputs": [
        {
          "output_type": "display_data",
          "data": {
            "text/plain": [
              "<Figure size 1152x648 with 1 Axes>"
            ],
            "image/png": "[encoded data removed]"
          },
          "metadata": {
            "needs_background": "light"
          }
        }
      ]
    },
    {
      "cell_type": "markdown",
      "source": [
        "So, tranmitter is turned on in the middle of the 900 us sample interval. This may be the reason for the shift in section C."
      ],
      "metadata": {
        "id": "U5eIM5Yq2qqD"
      }
    }
  ]
}